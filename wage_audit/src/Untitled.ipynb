{
 "cells": [
  {
   "cell_type": "code",
   "execution_count": null,
   "id": "eb95f0e1-051d-4991-894c-fc9b2a1bda2e",
   "metadata": {},
   "outputs": [],
   "source": [
    "#All imports\n",
    "\n",
    "import sys\n",
    "import os\n",
    "import json\n",
    "from tqdm import tqdm\n",
    "import pandas as pd\n",
    "import numpy as np\n",
    "import logging\n",
    "import re\n",
    "import warnings\n",
    "import seaborn as sns\n",
    "import matplotlib.pyplot as plt\n",
    "\n",
    "\n",
    "\n",
    "\n",
    "seaborn==0.13.2\n",
    "scikit-posthocs==0.10.0\n",
    "scipy==1.13.1\n",
    "regex==2024.11.6\n",
    "pandas==2.2.3"
   ]
  }
 ],
 "metadata": {
  "kernelspec": {
   "display_name": "Python 3 (ipykernel)",
   "language": "python",
   "name": "python3"
  },
  "language_info": {
   "codemirror_mode": {
    "name": "ipython",
    "version": 3
   },
   "file_extension": ".py",
   "mimetype": "text/x-python",
   "name": "python",
   "nbconvert_exporter": "python",
   "pygments_lexer": "ipython3",
   "version": "3.12.7"
  }
 },
 "nbformat": 4,
 "nbformat_minor": 5
}
