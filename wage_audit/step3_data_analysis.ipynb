{
 "cells": [
  {
   "cell_type": "markdown",
   "id": "dc2b7516-2efb-45c6-9762-38ba1ae67655",
   "metadata": {},
   "source": [
    "# Step 3: Data Analysis"
   ]
  },
  {
   "cell_type": "markdown",
   "id": "8dba5d77-132c-458c-8f74-ad290537493e",
   "metadata": {},
   "source": [
    "ADD DESCRIPTION"
   ]
  },
  {
   "cell_type": "code",
   "execution_count": null,
   "id": "6951fc51-38b1-4b69-85f7-3a520fc8e7b2",
   "metadata": {},
   "outputs": [],
   "source": []
  },
  {
   "cell_type": "code",
   "execution_count": null,
   "id": "77f544bc-c281-4439-951b-f3c005a40454",
   "metadata": {},
   "outputs": [],
   "source": [
    "df_merged.groupby([\"income\"])[\"high_end\"].mean()"
   ]
  }
 ],
 "metadata": {
  "kernelspec": {
   "display_name": "Python 3 (ipykernel)",
   "language": "python",
   "name": "python3"
  },
  "language_info": {
   "codemirror_mode": {
    "name": "ipython",
    "version": 3
   },
   "file_extension": ".py",
   "mimetype": "text/x-python",
   "name": "python",
   "nbconvert_exporter": "python",
   "pygments_lexer": "ipython3",
   "version": "3.12.7"
  }
 },
 "nbformat": 4,
 "nbformat_minor": 5
}
