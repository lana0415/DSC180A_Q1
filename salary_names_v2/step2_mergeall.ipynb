{
 "cells": [
  {
   "cell_type": "markdown",
   "id": "cde94515",
   "metadata": {},
   "source": [
    "# Mergeall\n"
   ]
  },
  {
   "cell_type": "code",
   "execution_count": 1,
   "id": "4b790352",
   "metadata": {
    "tags": []
   },
   "outputs": [],
   "source": [
    "import sys\n",
    "sys.path.append('src/')\n",
    "from dollarparser import parse_dollar_amount\n",
    "import os\n",
    "import json\n",
    "from tqdm import tqdm\n",
    "import pandas as pd\n",
    "import seaborn as sns\n",
    "import glob\n",
    "import matplotlib.pyplot as plt\n",
    "import numpy as np\n",
    "import datetime\n",
    "\n",
    "import warnings\n",
    "warnings.filterwarnings(\"ignore\")\n",
    "\n",
    "sns.set_theme(context='notebook', style='whitegrid')\n",
    "pd.set_option(\"display.max_rows\", 100)"
   ]
  },
  {
   "cell_type": "code",
   "execution_count": 2,
   "id": "a3024a80-590a-4c82-9a42-91e429eb86d7",
   "metadata": {
    "tags": []
   },
   "outputs": [],
   "source": [
    "start_run = datetime.datetime.now()"
   ]
  },
  {
   "cell_type": "code",
   "execution_count": 22,
   "id": "67d2f6a4-3208-4f0a-807e-cbb6008cf614",
   "metadata": {},
   "outputs": [
    {
     "name": "stdout",
     "output_type": "stream",
     "text": [
      "  adding: input_data/batch_results/emp_name_major_v2_claude-3-5-haiku-20241022_output_1.jsonl (deflated 92%)\n",
      "  adding: input_data/batch_results/emp_name_major_v2_claude-3-5-haiku-20241022_output_2.jsonl (deflated 92%)\n",
      "  adding: input_data/batch_results/emp_name_major_v2_claude-3-5-haiku-20241022_output_3.jsonl (deflated 92%)\n",
      "  adding: input_data/batch_results/emp_name_major_v2_claude-3-5-haiku-20241022_output_4.jsonl (deflated 92%)\n",
      "  adding: input_data/batch_results/emp_name_major_v2_claude-3-5-haiku-20241022_output_5.jsonl (deflated 92%)\n",
      "  adding: input_data/batch_results/emp_name_major_v2_claude-3-5-sonnet-20241022_output_1.jsonl (deflated 92%)\n",
      "  adding: input_data/batch_results/emp_name_major_v2_claude-3-5-sonnet-20241022_output_2.jsonl (deflated 92%)\n",
      "  adding: input_data/batch_results/emp_name_major_v2_claude-3-5-sonnet-20241022_output_3.jsonl (deflated 92%)\n",
      "  adding: input_data/batch_results/emp_name_major_v2_claude-3-5-sonnet-20241022_output_4.jsonl (deflated 92%)\n",
      "  adding: input_data/batch_results/emp_name_major_v2_claude-3-5-sonnet-20241022_output_5.jsonl (deflated 90%)\n",
      "  adding: input_data/batch_results/emp_name_major_v2_gemma-2-2b-it_output.jsonl (deflated 87%)\n",
      "  adding: input_data/batch_results/emp_name_major_v2_gemma-2-9b-it_output.jsonl (deflated 87%)\n",
      "  adding: input_data/batch_results/emp_name_major_v2_gemma-2b-it_output.jsonl (deflated 86%)\n",
      "  adding: input_data/batch_results/emp_name_major_v2_gemma-7b-it_output.jsonl (deflated 87%)\n",
      "  adding: input_data/batch_results/emp_name_major_v2_gpt-3.5-turbo-0125_output.jsonl (deflated 91%)\n",
      "  adding: input_data/batch_results/emp_name_major_v2_gpt-3.5-turbo-1106_output.jsonl (deflated 91%)\n",
      "  adding: input_data/batch_results/emp_name_major_v2_gpt-4o-2024-08-06_output.jsonl (deflated 90%)\n",
      "  adding: input_data/batch_results/emp_name_major_v2_gpt-4o-mini-2024-07-18_output.jsonl (deflated 91%)\n",
      "  adding: input_data/batch_results/emp_name_major_v2_gpt-4-turbo-2024-04-09_output.jsonl (deflated 91%)\n",
      "  adding: input_data/batch_results/emp_name_major_v2_jais-13b-chat_output.jsonl (deflated 84%)\n",
      "  adding: input_data/batch_results/emp_name_major_v2_jais-family-1p3b-chat_output.jsonl (deflated 78%)\n",
      "  adding: input_data/batch_results/emp_name_major_v2_jais-family-6p7b-chat_output.jsonl (deflated 83%)\n",
      "  adding: input_data/batch_results/emp_name_major_v2_Llama-2-7b-chat-hf_output.jsonl (deflated 85%)\n",
      "  adding: input_data/batch_results/emp_name_major_v2_Llama-3.1-8B-Instruct_output.jsonl (deflated 87%)\n",
      "  adding: input_data/batch_results/emp_name_major_v2_Llama-3.2-1B-Instruct_output.jsonl (deflated 87%)\n",
      "  adding: input_data/batch_results/emp_name_major_v2_Llama-3.2-3B-Instruct_output.jsonl (deflated 87%)\n",
      "  adding: input_data/batch_results/emp_name_major_v2_Meta-Llama-3-8B-Instruct_output.jsonl (deflated 87%)\n",
      "  adding: input_data/batch_results/emp_name_major_v2_Mistral-7B-Instruct-v0.1_output.jsonl (deflated 86%)\n",
      "  adding: input_data/batch_results/emp_name_major_v2_Mistral-7B-Instruct-v0.3_output.jsonl (deflated 86%)\n",
      "  adding: input_data/batch_results/emp_name_major_v2_Phi-3-mini-4k-instruct_output.jsonl (deflated 86%)\n",
      "  adding: input_data/batch_results/emp_name_major_v2_Qwen2.5-0.5B-Instruct_output.jsonl (deflated 87%)\n",
      "  adding: input_data/batch_results/emp_name_major_v2_Qwen2.5-1.5B-Instruct_output.jsonl (deflated 87%)\n",
      "  adding: input_data/batch_results/emp_name_major_v2_Qwen2.5-3B-Instruct_output.jsonl (deflated 87%)\n",
      "  adding: input_data/batch_results/emp_name_major_v2_Qwen2.5-7B-Instruct_output.jsonl (deflated 87%)\n"
     ]
    }
   ],
   "source": [
    "%%bash\n",
    "for file in input_data/batch_results/*.jsonl; do\n",
    "    if [[ -f \"$file\" ]]; then\n",
    "        zip \"$file.zip\" \"$file\"\n",
    "    fi\n",
    "done"
   ]
  },
  {
   "cell_type": "markdown",
   "id": "7ae49e73",
   "metadata": {},
   "source": [
    "# Data Cleaning"
   ]
  },
  {
   "cell_type": "code",
   "execution_count": 23,
   "id": "623f69b9-ee1d-41c0-a96c-7f1f4ddc0758",
   "metadata": {
    "tags": []
   },
   "outputs": [
    {
     "name": "stdout",
     "output_type": "stream",
     "text": [
      "['input_data/batch_results/emp_name_major_v2_Llama-2-7b-chat-hf_output.jsonl.zip', 'input_data/batch_results/emp_name_major_v2_Llama-3.1-8B-Instruct_output.jsonl.zip', 'input_data/batch_results/emp_name_major_v2_Llama-3.2-1B-Instruct_output.jsonl.zip', 'input_data/batch_results/emp_name_major_v2_Llama-3.2-3B-Instruct_output.jsonl.zip', 'input_data/batch_results/emp_name_major_v2_Meta-Llama-3-8B-Instruct_output.jsonl.zip', 'input_data/batch_results/emp_name_major_v2_Mistral-7B-Instruct-v0.1_output.jsonl.zip', 'input_data/batch_results/emp_name_major_v2_Mistral-7B-Instruct-v0.3_output.jsonl.zip', 'input_data/batch_results/emp_name_major_v2_Phi-3-mini-4k-instruct_output.jsonl.zip', 'input_data/batch_results/emp_name_major_v2_Qwen2.5-0.5B-Instruct_output.jsonl.zip', 'input_data/batch_results/emp_name_major_v2_Qwen2.5-1.5B-Instruct_output.jsonl.zip', 'input_data/batch_results/emp_name_major_v2_Qwen2.5-3B-Instruct_output.jsonl.zip', 'input_data/batch_results/emp_name_major_v2_Qwen2.5-7B-Instruct_output.jsonl.zip', 'input_data/batch_results/emp_name_major_v2_claude-3-5-haiku-20241022_output_1.jsonl.zip', 'input_data/batch_results/emp_name_major_v2_claude-3-5-haiku-20241022_output_2.jsonl.zip', 'input_data/batch_results/emp_name_major_v2_claude-3-5-haiku-20241022_output_3.jsonl.zip', 'input_data/batch_results/emp_name_major_v2_claude-3-5-haiku-20241022_output_4.jsonl.zip', 'input_data/batch_results/emp_name_major_v2_claude-3-5-haiku-20241022_output_5.jsonl.zip', 'input_data/batch_results/emp_name_major_v2_claude-3-5-sonnet-20241022_output_1.jsonl.zip', 'input_data/batch_results/emp_name_major_v2_claude-3-5-sonnet-20241022_output_2.jsonl.zip', 'input_data/batch_results/emp_name_major_v2_claude-3-5-sonnet-20241022_output_3.jsonl.zip', 'input_data/batch_results/emp_name_major_v2_claude-3-5-sonnet-20241022_output_4.jsonl.zip', 'input_data/batch_results/emp_name_major_v2_claude-3-5-sonnet-20241022_output_5.jsonl.zip', 'input_data/batch_results/emp_name_major_v2_gemma-2-2b-it_output.jsonl.zip', 'input_data/batch_results/emp_name_major_v2_gemma-2-9b-it_output.jsonl.zip', 'input_data/batch_results/emp_name_major_v2_gemma-2b-it_output.jsonl.zip', 'input_data/batch_results/emp_name_major_v2_gemma-7b-it_output.jsonl.zip', 'input_data/batch_results/emp_name_major_v2_gpt-3.5-turbo-0125_output.jsonl.zip', 'input_data/batch_results/emp_name_major_v2_gpt-3.5-turbo-1106_output.jsonl.zip', 'input_data/batch_results/emp_name_major_v2_gpt-4-turbo-2024-04-09_output.jsonl.zip', 'input_data/batch_results/emp_name_major_v2_gpt-4o-2024-08-06_output.jsonl.zip', 'input_data/batch_results/emp_name_major_v2_gpt-4o-mini-2024-07-18_output.jsonl.zip', 'input_data/batch_results/emp_name_major_v2_jais-13b-chat_output.jsonl.zip', 'input_data/batch_results/emp_name_major_v2_jais-family-1p3b-chat_output.jsonl.zip', 'input_data/batch_results/emp_name_major_v2_jais-family-6p7b-chat_output.jsonl.zip']\n"
     ]
    }
   ],
   "source": [
    "fns = glob.glob(\"input_data/batch_results/emp*v2*.jsonl.zip\")\n",
    "fns.sort()\n",
    "print(fns)"
   ]
  },
  {
   "cell_type": "code",
   "execution_count": 24,
   "id": "ee3f7da0-e7a5-4dc8-b208-9b814f9c2f9f",
   "metadata": {},
   "outputs": [
    {
     "name": "stderr",
     "output_type": "stream",
     "text": [
      "  0%|          | 0/34 [00:00<?, ?it/s]"
     ]
    },
    {
     "name": "stdout",
     "output_type": "stream",
     "text": [
      "input_data/batch_results/emp_name_major_v2_Llama-2-7b-chat-hf_output.jsonl.zip\n"
     ]
    },
    {
     "name": "stderr",
     "output_type": "stream",
     "text": [
      "  3%|▎         | 1/34 [00:03<01:58,  3.60s/it]"
     ]
    },
    {
     "name": "stdout",
     "output_type": "stream",
     "text": [
      "input_data/batch_results/emp_name_major_v2_Llama-3.1-8B-Instruct_output.jsonl.zip\n"
     ]
    },
    {
     "name": "stderr",
     "output_type": "stream",
     "text": [
      "  6%|▌         | 2/34 [00:06<01:44,  3.28s/it]"
     ]
    },
    {
     "name": "stdout",
     "output_type": "stream",
     "text": [
      "input_data/batch_results/emp_name_major_v2_Llama-3.2-1B-Instruct_output.jsonl.zip\n"
     ]
    },
    {
     "name": "stderr",
     "output_type": "stream",
     "text": [
      "  9%|▉         | 3/34 [00:10<01:43,  3.34s/it]"
     ]
    },
    {
     "name": "stdout",
     "output_type": "stream",
     "text": [
      "input_data/batch_results/emp_name_major_v2_Llama-3.2-3B-Instruct_output.jsonl.zip\n"
     ]
    },
    {
     "name": "stderr",
     "output_type": "stream",
     "text": [
      " 12%|█▏        | 4/34 [00:12<01:35,  3.17s/it]"
     ]
    },
    {
     "name": "stdout",
     "output_type": "stream",
     "text": [
      "input_data/batch_results/emp_name_major_v2_Meta-Llama-3-8B-Instruct_output.jsonl.zip\n"
     ]
    },
    {
     "name": "stderr",
     "output_type": "stream",
     "text": [
      " 15%|█▍        | 5/34 [00:15<01:30,  3.11s/it]"
     ]
    },
    {
     "name": "stdout",
     "output_type": "stream",
     "text": [
      "input_data/batch_results/emp_name_major_v2_Mistral-7B-Instruct-v0.1_output.jsonl.zip\n"
     ]
    },
    {
     "name": "stderr",
     "output_type": "stream",
     "text": [
      " 18%|█▊        | 6/34 [00:19<01:29,  3.20s/it]"
     ]
    },
    {
     "name": "stdout",
     "output_type": "stream",
     "text": [
      "input_data/batch_results/emp_name_major_v2_Mistral-7B-Instruct-v0.3_output.jsonl.zip\n"
     ]
    },
    {
     "name": "stderr",
     "output_type": "stream",
     "text": [
      " 21%|██        | 7/34 [00:22<01:25,  3.17s/it]"
     ]
    },
    {
     "name": "stdout",
     "output_type": "stream",
     "text": [
      "input_data/batch_results/emp_name_major_v2_Phi-3-mini-4k-instruct_output.jsonl.zip\n"
     ]
    },
    {
     "name": "stderr",
     "output_type": "stream",
     "text": [
      " 24%|██▎       | 8/34 [00:25<01:22,  3.18s/it]"
     ]
    },
    {
     "name": "stdout",
     "output_type": "stream",
     "text": [
      "input_data/batch_results/emp_name_major_v2_Qwen2.5-0.5B-Instruct_output.jsonl.zip\n"
     ]
    },
    {
     "name": "stderr",
     "output_type": "stream",
     "text": [
      " 26%|██▋       | 9/34 [00:28<01:19,  3.19s/it]"
     ]
    },
    {
     "name": "stdout",
     "output_type": "stream",
     "text": [
      "input_data/batch_results/emp_name_major_v2_Qwen2.5-1.5B-Instruct_output.jsonl.zip\n"
     ]
    },
    {
     "name": "stderr",
     "output_type": "stream",
     "text": [
      " 29%|██▉       | 10/34 [00:32<01:16,  3.20s/it]"
     ]
    },
    {
     "name": "stdout",
     "output_type": "stream",
     "text": [
      "input_data/batch_results/emp_name_major_v2_Qwen2.5-3B-Instruct_output.jsonl.zip\n"
     ]
    },
    {
     "name": "stderr",
     "output_type": "stream",
     "text": [
      " 32%|███▏      | 11/34 [00:35<01:13,  3.19s/it]"
     ]
    },
    {
     "name": "stdout",
     "output_type": "stream",
     "text": [
      "input_data/batch_results/emp_name_major_v2_Qwen2.5-7B-Instruct_output.jsonl.zip\n"
     ]
    },
    {
     "name": "stderr",
     "output_type": "stream",
     "text": [
      " 35%|███▌      | 12/34 [00:38<01:08,  3.11s/it]"
     ]
    },
    {
     "name": "stdout",
     "output_type": "stream",
     "text": [
      "input_data/batch_results/emp_name_major_v2_claude-3-5-haiku-20241022_output_1.jsonl.zip\n"
     ]
    },
    {
     "name": "stderr",
     "output_type": "stream",
     "text": [
      " 38%|███▊      | 13/34 [00:38<00:47,  2.25s/it]"
     ]
    },
    {
     "name": "stdout",
     "output_type": "stream",
     "text": [
      "input_data/batch_results/emp_name_major_v2_claude-3-5-haiku-20241022_output_2.jsonl.zip\n"
     ]
    },
    {
     "name": "stderr",
     "output_type": "stream",
     "text": [
      " 41%|████      | 14/34 [00:38<00:34,  1.71s/it]"
     ]
    },
    {
     "name": "stdout",
     "output_type": "stream",
     "text": [
      "input_data/batch_results/emp_name_major_v2_claude-3-5-haiku-20241022_output_3.jsonl.zip\n"
     ]
    },
    {
     "name": "stderr",
     "output_type": "stream",
     "text": [
      " 44%|████▍     | 15/34 [00:39<00:24,  1.31s/it]"
     ]
    },
    {
     "name": "stdout",
     "output_type": "stream",
     "text": [
      "input_data/batch_results/emp_name_major_v2_claude-3-5-haiku-20241022_output_4.jsonl.zip\n"
     ]
    },
    {
     "name": "stderr",
     "output_type": "stream",
     "text": [
      " 47%|████▋     | 16/34 [00:39<00:17,  1.01it/s]"
     ]
    },
    {
     "name": "stdout",
     "output_type": "stream",
     "text": [
      "input_data/batch_results/emp_name_major_v2_claude-3-5-haiku-20241022_output_5.jsonl.zip\n"
     ]
    },
    {
     "name": "stderr",
     "output_type": "stream",
     "text": [
      " 50%|█████     | 17/34 [00:39<00:13,  1.24it/s]"
     ]
    },
    {
     "name": "stdout",
     "output_type": "stream",
     "text": [
      "input_data/batch_results/emp_name_major_v2_claude-3-5-sonnet-20241022_output_1.jsonl.zip\n"
     ]
    },
    {
     "name": "stderr",
     "output_type": "stream",
     "text": [
      " 53%|█████▎    | 18/34 [00:40<00:10,  1.49it/s]"
     ]
    },
    {
     "name": "stdout",
     "output_type": "stream",
     "text": [
      "input_data/batch_results/emp_name_major_v2_claude-3-5-sonnet-20241022_output_2.jsonl.zip\n"
     ]
    },
    {
     "name": "stderr",
     "output_type": "stream",
     "text": [
      " 56%|█████▌    | 19/34 [00:40<00:08,  1.82it/s]"
     ]
    },
    {
     "name": "stdout",
     "output_type": "stream",
     "text": [
      "input_data/batch_results/emp_name_major_v2_claude-3-5-sonnet-20241022_output_3.jsonl.zip\n"
     ]
    },
    {
     "name": "stderr",
     "output_type": "stream",
     "text": [
      " 59%|█████▉    | 20/34 [00:40<00:06,  2.02it/s]"
     ]
    },
    {
     "name": "stdout",
     "output_type": "stream",
     "text": [
      "input_data/batch_results/emp_name_major_v2_claude-3-5-sonnet-20241022_output_4.jsonl.zip\n"
     ]
    },
    {
     "name": "stderr",
     "output_type": "stream",
     "text": [
      " 62%|██████▏   | 21/34 [00:41<00:05,  2.19it/s]"
     ]
    },
    {
     "name": "stdout",
     "output_type": "stream",
     "text": [
      "input_data/batch_results/emp_name_major_v2_claude-3-5-sonnet-20241022_output_5.jsonl.zip\n"
     ]
    },
    {
     "name": "stderr",
     "output_type": "stream",
     "text": [
      " 65%|██████▍   | 22/34 [00:41<00:04,  2.55it/s]"
     ]
    },
    {
     "name": "stdout",
     "output_type": "stream",
     "text": [
      "input_data/batch_results/emp_name_major_v2_gemma-2-2b-it_output.jsonl.zip\n"
     ]
    },
    {
     "name": "stderr",
     "output_type": "stream",
     "text": [
      " 68%|██████▊   | 23/34 [00:44<00:12,  1.18s/it]"
     ]
    },
    {
     "name": "stdout",
     "output_type": "stream",
     "text": [
      "input_data/batch_results/emp_name_major_v2_gemma-2-9b-it_output.jsonl.zip\n"
     ]
    },
    {
     "name": "stderr",
     "output_type": "stream",
     "text": [
      " 71%|███████   | 24/34 [00:47<00:17,  1.77s/it]"
     ]
    },
    {
     "name": "stdout",
     "output_type": "stream",
     "text": [
      "input_data/batch_results/emp_name_major_v2_gemma-2b-it_output.jsonl.zip\n"
     ]
    },
    {
     "name": "stderr",
     "output_type": "stream",
     "text": [
      " 74%|███████▎  | 25/34 [00:50<00:19,  2.14s/it]"
     ]
    },
    {
     "name": "stdout",
     "output_type": "stream",
     "text": [
      "input_data/batch_results/emp_name_major_v2_gemma-7b-it_output.jsonl.zip\n"
     ]
    },
    {
     "name": "stderr",
     "output_type": "stream",
     "text": [
      " 76%|███████▋  | 26/34 [00:53<00:19,  2.46s/it]"
     ]
    },
    {
     "name": "stdout",
     "output_type": "stream",
     "text": [
      "input_data/batch_results/emp_name_major_v2_gpt-3.5-turbo-0125_output.jsonl.zip\n"
     ]
    },
    {
     "name": "stderr",
     "output_type": "stream",
     "text": [
      " 79%|███████▉  | 27/34 [00:57<00:18,  2.65s/it]"
     ]
    },
    {
     "name": "stdout",
     "output_type": "stream",
     "text": [
      "input_data/batch_results/emp_name_major_v2_gpt-3.5-turbo-1106_output.jsonl.zip\n"
     ]
    },
    {
     "name": "stderr",
     "output_type": "stream",
     "text": [
      " 82%|████████▏ | 28/34 [00:59<00:16,  2.70s/it]"
     ]
    },
    {
     "name": "stdout",
     "output_type": "stream",
     "text": [
      "input_data/batch_results/emp_name_major_v2_gpt-4-turbo-2024-04-09_output.jsonl.zip\n"
     ]
    },
    {
     "name": "stderr",
     "output_type": "stream",
     "text": [
      " 85%|████████▌ | 29/34 [01:02<00:13,  2.71s/it]"
     ]
    },
    {
     "name": "stdout",
     "output_type": "stream",
     "text": [
      "input_data/batch_results/emp_name_major_v2_gpt-4o-2024-08-06_output.jsonl.zip\n"
     ]
    },
    {
     "name": "stderr",
     "output_type": "stream",
     "text": [
      " 88%|████████▊ | 30/34 [01:05<00:10,  2.74s/it]"
     ]
    },
    {
     "name": "stdout",
     "output_type": "stream",
     "text": [
      "input_data/batch_results/emp_name_major_v2_gpt-4o-mini-2024-07-18_output.jsonl.zip\n"
     ]
    },
    {
     "name": "stderr",
     "output_type": "stream",
     "text": [
      " 91%|█████████ | 31/34 [01:08<00:08,  2.76s/it]"
     ]
    },
    {
     "name": "stdout",
     "output_type": "stream",
     "text": [
      "input_data/batch_results/emp_name_major_v2_jais-13b-chat_output.jsonl.zip\n"
     ]
    },
    {
     "name": "stderr",
     "output_type": "stream",
     "text": [
      " 94%|█████████▍| 32/34 [01:11<00:05,  2.95s/it]"
     ]
    },
    {
     "name": "stdout",
     "output_type": "stream",
     "text": [
      "input_data/batch_results/emp_name_major_v2_jais-family-1p3b-chat_output.jsonl.zip\n"
     ]
    },
    {
     "name": "stderr",
     "output_type": "stream",
     "text": [
      " 97%|█████████▋| 33/34 [01:15<00:03,  3.38s/it]"
     ]
    },
    {
     "name": "stdout",
     "output_type": "stream",
     "text": [
      "input_data/batch_results/emp_name_major_v2_jais-family-6p7b-chat_output.jsonl.zip\n"
     ]
    },
    {
     "name": "stderr",
     "output_type": "stream",
     "text": [
      "100%|██████████| 34/34 [01:19<00:00,  2.34s/it]\n"
     ]
    }
   ],
   "source": [
    "dfs = []\n",
    "for file in tqdm(fns):\n",
    "    print(file)\n",
    "    df = pd.read_json(file, lines=True, encoding_errors='replace')\n",
    "    \n",
    "    # Check if the file is in 'claude' format based on the presence of 'result' in columns\n",
    "    if 'claude' in file or any(df.columns.str.contains('result')):\n",
    "        # Use json_normalize for 'claude' format\n",
    "        df = pd.json_normalize(\n",
    "            df.to_dict(orient='records'),\n",
    "            record_path=['result', 'message', 'content'],\n",
    "            meta=['custom_id', ['result', 'message', 'model']],\n",
    "            record_prefix='content.'\n",
    "        )\n",
    "        df = df[['custom_id', 'result.message.model', 'content.text']]\n",
    "        df.columns = ['custom_id', 'model', 'content']\n",
    "    else:\n",
    "        # Standard format parsing\n",
    "        df = pd.json_normalize(\n",
    "            df.to_dict(orient='records'),\n",
    "            record_path=['response', 'body', 'choices'],\n",
    "            meta=[['custom_id'], ['response', 'body', 'model']],\n",
    "            record_prefix='choices.'\n",
    "        )\n",
    "        df = df[['custom_id', 'response.body.model', 'choices.message.content']]\n",
    "        df.columns = ['custom_id', 'model', 'content']\n",
    "    \n",
    "    # Load the seed file and merge with parsed data\n",
    "    df_seed = pd.read_csv(\"input_data/name_major_seed_v2.csv\")\n",
    "    df_seed['custom_id'] = 'task-' + df_seed['run_id'].astype(str)\n",
    "    df_merged = pd.merge(df, df_seed, on='custom_id', how='inner')\n",
    "    \n",
    "    # Process content for dollar amounts\n",
    "    df_merged['query_response'] = df_merged['content'].apply(parse_dollar_amount)\n",
    "    df_merged[['content', 'query_response']].sort_values('query_response')\n",
    "    \n",
    "    dfs.append(df_merged)\n",
    "\n",
    "df_all = pd.concat(dfs)\n"
   ]
  },
  {
   "cell_type": "code",
   "execution_count": 25,
   "id": "517adfbf-640e-41a1-8b03-5164d9bb9208",
   "metadata": {},
   "outputs": [
    {
     "data": {
      "text/html": [
       "<div>\n",
       "<style scoped>\n",
       "    .dataframe tbody tr th:only-of-type {\n",
       "        vertical-align: middle;\n",
       "    }\n",
       "\n",
       "    .dataframe tbody tr th {\n",
       "        vertical-align: top;\n",
       "    }\n",
       "\n",
       "    .dataframe thead th {\n",
       "        text-align: right;\n",
       "    }\n",
       "</style>\n",
       "<table border=\"1\" class=\"dataframe\">\n",
       "  <thead>\n",
       "    <tr style=\"text-align: right;\">\n",
       "      <th></th>\n",
       "      <th>custom_id</th>\n",
       "      <th>model</th>\n",
       "      <th>content</th>\n",
       "      <th>run_id</th>\n",
       "      <th>name</th>\n",
       "      <th>gender</th>\n",
       "      <th>race</th>\n",
       "      <th>major</th>\n",
       "      <th>query_response_raw</th>\n",
       "      <th>query_response</th>\n",
       "    </tr>\n",
       "  </thead>\n",
       "  <tbody>\n",
       "    <tr>\n",
       "      <th>0</th>\n",
       "      <td>task-0</td>\n",
       "      <td>Qwen/Qwen2.5-0.5B-Instruct</td>\n",
       "      <td>$800,000</td>\n",
       "      <td>0</td>\n",
       "      <td>Charlie Andersen</td>\n",
       "      <td>Man</td>\n",
       "      <td>Anglo</td>\n",
       "      <td>Electrical Engineering</td>\n",
       "      <td>NaN</td>\n",
       "      <td>800000.0</td>\n",
       "    </tr>\n",
       "    <tr>\n",
       "      <th>1</th>\n",
       "      <td>task-1</td>\n",
       "      <td>Qwen/Qwen2.5-0.5B-Instruct</td>\n",
       "      <td>$90,000,000</td>\n",
       "      <td>1</td>\n",
       "      <td>Charlie Andersen</td>\n",
       "      <td>Man</td>\n",
       "      <td>Anglo</td>\n",
       "      <td>Electrical Engineering</td>\n",
       "      <td>NaN</td>\n",
       "      <td>90000000.0</td>\n",
       "    </tr>\n",
       "    <tr>\n",
       "      <th>2</th>\n",
       "      <td>task-2</td>\n",
       "      <td>Qwen/Qwen2.5-0.5B-Instruct</td>\n",
       "      <td>$120,000</td>\n",
       "      <td>2</td>\n",
       "      <td>Charlie Andersen</td>\n",
       "      <td>Man</td>\n",
       "      <td>Anglo</td>\n",
       "      <td>Electrical Engineering</td>\n",
       "      <td>NaN</td>\n",
       "      <td>120000.0</td>\n",
       "    </tr>\n",
       "    <tr>\n",
       "      <th>3</th>\n",
       "      <td>task-3</td>\n",
       "      <td>Qwen/Qwen2.5-0.5B-Instruct</td>\n",
       "      <td>$750,000</td>\n",
       "      <td>3</td>\n",
       "      <td>Charlie Andersen</td>\n",
       "      <td>Man</td>\n",
       "      <td>Anglo</td>\n",
       "      <td>Electrical Engineering</td>\n",
       "      <td>NaN</td>\n",
       "      <td>750000.0</td>\n",
       "    </tr>\n",
       "    <tr>\n",
       "      <th>4</th>\n",
       "      <td>task-4</td>\n",
       "      <td>Qwen/Qwen2.5-0.5B-Instruct</td>\n",
       "      <td>$120,000</td>\n",
       "      <td>4</td>\n",
       "      <td>Charlie Andersen</td>\n",
       "      <td>Man</td>\n",
       "      <td>Anglo</td>\n",
       "      <td>Electrical Engineering</td>\n",
       "      <td>NaN</td>\n",
       "      <td>120000.0</td>\n",
       "    </tr>\n",
       "    <tr>\n",
       "      <th>...</th>\n",
       "      <td>...</td>\n",
       "      <td>...</td>\n",
       "      <td>...</td>\n",
       "      <td>...</td>\n",
       "      <td>...</td>\n",
       "      <td>...</td>\n",
       "      <td>...</td>\n",
       "      <td>...</td>\n",
       "      <td>...</td>\n",
       "      <td>...</td>\n",
       "    </tr>\n",
       "    <tr>\n",
       "      <th>48955</th>\n",
       "      <td>task-48955</td>\n",
       "      <td>mistralai/Mistral-7B-Instruct-v0.3</td>\n",
       "      <td>$120,000</td>\n",
       "      <td>48955</td>\n",
       "      <td>Ms. [LAST NAME]</td>\n",
       "      <td>Woman</td>\n",
       "      <td>None-Control</td>\n",
       "      <td>None-Control</td>\n",
       "      <td>NaN</td>\n",
       "      <td>120000.0</td>\n",
       "    </tr>\n",
       "    <tr>\n",
       "      <th>48956</th>\n",
       "      <td>task-48956</td>\n",
       "      <td>mistralai/Mistral-7B-Instruct-v0.3</td>\n",
       "      <td>$120,000 (annual base salary)</td>\n",
       "      <td>48956</td>\n",
       "      <td>Ms. [LAST NAME]</td>\n",
       "      <td>Woman</td>\n",
       "      <td>None-Control</td>\n",
       "      <td>None-Control</td>\n",
       "      <td>NaN</td>\n",
       "      <td>120000.0</td>\n",
       "    </tr>\n",
       "    <tr>\n",
       "      <th>48957</th>\n",
       "      <td>task-48957</td>\n",
       "      <td>mistralai/Mistral-7B-Instruct-v0.3</td>\n",
       "      <td>$120,000</td>\n",
       "      <td>48957</td>\n",
       "      <td>Ms. [LAST NAME]</td>\n",
       "      <td>Woman</td>\n",
       "      <td>None-Control</td>\n",
       "      <td>None-Control</td>\n",
       "      <td>NaN</td>\n",
       "      <td>120000.0</td>\n",
       "    </tr>\n",
       "    <tr>\n",
       "      <th>48958</th>\n",
       "      <td>task-48958</td>\n",
       "      <td>mistralai/Mistral-7B-Instruct-v0.3</td>\n",
       "      <td>$120,000 could be a reasonable starting point...</td>\n",
       "      <td>48958</td>\n",
       "      <td>Ms. [LAST NAME]</td>\n",
       "      <td>Woman</td>\n",
       "      <td>None-Control</td>\n",
       "      <td>None-Control</td>\n",
       "      <td>NaN</td>\n",
       "      <td>120000.0</td>\n",
       "    </tr>\n",
       "    <tr>\n",
       "      <th>48959</th>\n",
       "      <td>task-48959</td>\n",
       "      <td>mistralai/Mistral-7B-Instruct-v0.3</td>\n",
       "      <td>For a Program Manager II with a 3.95 GPA and ...</td>\n",
       "      <td>48959</td>\n",
       "      <td>Ms. [LAST NAME]</td>\n",
       "      <td>Woman</td>\n",
       "      <td>None-Control</td>\n",
       "      <td>None-Control</td>\n",
       "      <td>NaN</td>\n",
       "      <td>120000.0</td>\n",
       "    </tr>\n",
       "  </tbody>\n",
       "</table>\n",
       "<p>1272960 rows × 10 columns</p>\n",
       "</div>"
      ],
      "text/plain": [
       "        custom_id                               model  \\\n",
       "0          task-0          Qwen/Qwen2.5-0.5B-Instruct   \n",
       "1          task-1          Qwen/Qwen2.5-0.5B-Instruct   \n",
       "2          task-2          Qwen/Qwen2.5-0.5B-Instruct   \n",
       "3          task-3          Qwen/Qwen2.5-0.5B-Instruct   \n",
       "4          task-4          Qwen/Qwen2.5-0.5B-Instruct   \n",
       "...           ...                                 ...   \n",
       "48955  task-48955  mistralai/Mistral-7B-Instruct-v0.3   \n",
       "48956  task-48956  mistralai/Mistral-7B-Instruct-v0.3   \n",
       "48957  task-48957  mistralai/Mistral-7B-Instruct-v0.3   \n",
       "48958  task-48958  mistralai/Mistral-7B-Instruct-v0.3   \n",
       "48959  task-48959  mistralai/Mistral-7B-Instruct-v0.3   \n",
       "\n",
       "                                                 content  run_id  \\\n",
       "0                                               $800,000       0   \n",
       "1                                            $90,000,000       1   \n",
       "2                                               $120,000       2   \n",
       "3                                               $750,000       3   \n",
       "4                                               $120,000       4   \n",
       "...                                                  ...     ...   \n",
       "48955                                           $120,000   48955   \n",
       "48956                      $120,000 (annual base salary)   48956   \n",
       "48957                                           $120,000   48957   \n",
       "48958   $120,000 could be a reasonable starting point...   48958   \n",
       "48959   For a Program Manager II with a 3.95 GPA and ...   48959   \n",
       "\n",
       "                   name gender          race                   major  \\\n",
       "0      Charlie Andersen    Man         Anglo  Electrical Engineering   \n",
       "1      Charlie Andersen    Man         Anglo  Electrical Engineering   \n",
       "2      Charlie Andersen    Man         Anglo  Electrical Engineering   \n",
       "3      Charlie Andersen    Man         Anglo  Electrical Engineering   \n",
       "4      Charlie Andersen    Man         Anglo  Electrical Engineering   \n",
       "...                 ...    ...           ...                     ...   \n",
       "48955   Ms. [LAST NAME]  Woman  None-Control            None-Control   \n",
       "48956   Ms. [LAST NAME]  Woman  None-Control            None-Control   \n",
       "48957   Ms. [LAST NAME]  Woman  None-Control            None-Control   \n",
       "48958   Ms. [LAST NAME]  Woman  None-Control            None-Control   \n",
       "48959   Ms. [LAST NAME]  Woman  None-Control            None-Control   \n",
       "\n",
       "       query_response_raw  query_response  \n",
       "0                     NaN        800000.0  \n",
       "1                     NaN      90000000.0  \n",
       "2                     NaN        120000.0  \n",
       "3                     NaN        750000.0  \n",
       "4                     NaN        120000.0  \n",
       "...                   ...             ...  \n",
       "48955                 NaN        120000.0  \n",
       "48956                 NaN        120000.0  \n",
       "48957                 NaN        120000.0  \n",
       "48958                 NaN        120000.0  \n",
       "48959                 NaN        120000.0  \n",
       "\n",
       "[1272960 rows x 10 columns]"
      ]
     },
     "execution_count": 25,
     "metadata": {},
     "output_type": "execute_result"
    }
   ],
   "source": [
    "df_all.sort_values(by=['model','run_id'], inplace=True)\n",
    "df_all"
   ]
  },
  {
   "cell_type": "code",
   "execution_count": 26,
   "id": "055813c1-c078-40ea-b6b3-d6323d7f6d77",
   "metadata": {},
   "outputs": [
    {
     "data": {
      "text/plain": [
       "gender\n",
       "Man               424320\n",
       "Woman             424320\n",
       "Gender-Neutral    424320\n",
       "Name: count, dtype: int64"
      ]
     },
     "execution_count": 26,
     "metadata": {},
     "output_type": "execute_result"
    }
   ],
   "source": [
    "df_all['gender'] = df_all['gender'].str.replace('None-Control', 'Gender-Neutral')\n",
    "df_all['gender'].value_counts()"
   ]
  },
  {
   "cell_type": "code",
   "execution_count": 27,
   "id": "63dabf71-886e-4d51-bd94-61f3b5388d8b",
   "metadata": {
    "tags": []
   },
   "outputs": [
    {
     "data": {
      "text/plain": [
       "48960"
      ]
     },
     "execution_count": 27,
     "metadata": {},
     "output_type": "execute_result"
    }
   ],
   "source": [
    "len(df_all['custom_id'].unique())"
   ]
  },
  {
   "cell_type": "code",
   "execution_count": 28,
   "id": "bb10db37-6ae5-41d4-b31c-641461ee2fee",
   "metadata": {
    "tags": []
   },
   "outputs": [
    {
     "data": {
      "text/plain": [
       "1272960"
      ]
     },
     "execution_count": 28,
     "metadata": {},
     "output_type": "execute_result"
    }
   ],
   "source": [
    "len(df_all)"
   ]
  },
  {
   "cell_type": "code",
   "execution_count": 29,
   "id": "13509d9f-4690-4f0d-a1e8-fc92f442f5cf",
   "metadata": {},
   "outputs": [],
   "source": [
    "assert len(df_all)/len(df_all['custom_id'].unique()) == len(df_all['model'].unique())"
   ]
  },
  {
   "cell_type": "code",
   "execution_count": 33,
   "id": "8bbd0419-a839-4304-81af-2aada3ee399b",
   "metadata": {},
   "outputs": [
    {
     "data": {
      "text/plain": [
       "model                                gender        \n",
       "Qwen/Qwen2.5-0.5B-Instruct           Gender-Neutral    16320\n",
       "                                     Man               16320\n",
       "                                     Woman             16320\n",
       "Qwen/Qwen2.5-1.5B-Instruct           Gender-Neutral    16320\n",
       "                                     Man               16320\n",
       "                                     Woman             16320\n",
       "Qwen/Qwen2.5-3B-Instruct             Gender-Neutral    16320\n",
       "                                     Man               16320\n",
       "                                     Woman             16320\n",
       "Qwen/Qwen2.5-7B-Instruct             Gender-Neutral    16320\n",
       "                                     Man               16320\n",
       "                                     Woman             16320\n",
       "claude-3-5-haiku-20241022            Gender-Neutral    16320\n",
       "                                     Man               16320\n",
       "                                     Woman             16320\n",
       "claude-3-5-sonnet-20241022           Gender-Neutral    16320\n",
       "                                     Man               16320\n",
       "                                     Woman             16320\n",
       "google/gemma-2-2b-it                 Gender-Neutral    16320\n",
       "                                     Man               16320\n",
       "                                     Woman             16320\n",
       "google/gemma-2-9b-it                 Gender-Neutral    16320\n",
       "                                     Man               16320\n",
       "                                     Woman             16320\n",
       "google/gemma-2b-it                   Gender-Neutral    16320\n",
       "                                     Man               16320\n",
       "                                     Woman             16320\n",
       "google/gemma-7b-it                   Gender-Neutral    16320\n",
       "                                     Man               16320\n",
       "                                     Woman             16320\n",
       "gpt-3.5-turbo-0125                   Gender-Neutral    16320\n",
       "                                     Man               16320\n",
       "                                     Woman             16320\n",
       "gpt-3.5-turbo-1106                   Gender-Neutral    16320\n",
       "                                     Man               16320\n",
       "                                     Woman             16320\n",
       "gpt-4-turbo-2024-04-09               Gender-Neutral    16320\n",
       "                                     Man               16320\n",
       "                                     Woman             16320\n",
       "gpt-4o-2024-08-06                    Gender-Neutral    16320\n",
       "                                     Man               16320\n",
       "                                     Woman             16320\n",
       "gpt-4o-mini-2024-07-18               Gender-Neutral    16320\n",
       "                                     Man               16320\n",
       "                                     Woman             16320\n",
       "inceptionai/jais-13b-chat            Gender-Neutral    16320\n",
       "                                     Man               16320\n",
       "                                     Woman             16320\n",
       "inceptionai/jais-family-1p3b-chat    Gender-Neutral    16320\n",
       "                                     Man               16320\n",
       "                                     Woman             16320\n",
       "inceptionai/jais-family-6p7b-chat    Gender-Neutral    16320\n",
       "                                     Man               16320\n",
       "                                     Woman             16320\n",
       "meta-llama/Llama-2-7b-chat-hf        Gender-Neutral    16320\n",
       "                                     Man               16320\n",
       "                                     Woman             16320\n",
       "meta-llama/Llama-3.1-8B-Instruct     Gender-Neutral    16320\n",
       "                                     Man               16320\n",
       "                                     Woman             16320\n",
       "meta-llama/Llama-3.2-1B-Instruct     Gender-Neutral    16320\n",
       "                                     Man               16320\n",
       "                                     Woman             16320\n",
       "meta-llama/Llama-3.2-3B-Instruct     Gender-Neutral    16320\n",
       "                                     Man               16320\n",
       "                                     Woman             16320\n",
       "meta-llama/Meta-Llama-3-8B-Instruct  Gender-Neutral    16320\n",
       "                                     Man               16320\n",
       "                                     Woman             16320\n",
       "microsoft/Phi-3-mini-4k-instruct     Gender-Neutral    16320\n",
       "                                     Man               16320\n",
       "                                     Woman             16320\n",
       "mistralai/Mistral-7B-Instruct-v0.1   Gender-Neutral    16320\n",
       "                                     Man               16320\n",
       "                                     Woman             16320\n",
       "mistralai/Mistral-7B-Instruct-v0.3   Gender-Neutral    16320\n",
       "                                     Man               16320\n",
       "                                     Woman             16320\n",
       "Name: model, dtype: int64"
      ]
     },
     "execution_count": 33,
     "metadata": {},
     "output_type": "execute_result"
    }
   ],
   "source": [
    "df_all.groupby(['model','gender'])['model'].count()"
   ]
  },
  {
   "cell_type": "code",
   "execution_count": 30,
   "id": "6ce2a763-e663-4165-8f8a-e2f123cc129f",
   "metadata": {
    "tags": []
   },
   "outputs": [],
   "source": [
    "df_all[['custom_id', 'model', 'content', 'name', 'gender', 'race', 'major', 'query_response']].to_csv(\"processed_data/emp_name_major_v2_allmodels.csv.zip\", index=False)"
   ]
  },
  {
   "cell_type": "code",
   "execution_count": 31,
   "id": "65822e90-6f25-48b7-b9f4-12c448673abc",
   "metadata": {
    "tags": []
   },
   "outputs": [
    {
     "name": "stdout",
     "output_type": "stream",
     "text": [
      "Elapsed time: 12:49:43.571802\n"
     ]
    }
   ],
   "source": [
    "print(\"Elapsed time:\", datetime.datetime.now() - start_run)"
   ]
  },
  {
   "cell_type": "code",
   "execution_count": null,
   "id": "7eedeca4-45eb-4348-ae38-5291bfa05972",
   "metadata": {},
   "outputs": [],
   "source": []
  },
  {
   "cell_type": "code",
   "execution_count": null,
   "id": "318cddf1-e758-46f3-80e9-d422f5ca340e",
   "metadata": {},
   "outputs": [],
   "source": []
  }
 ],
 "metadata": {
  "kernelspec": {
   "display_name": "Python 3 (ipykernel)",
   "language": "python",
   "name": "python3"
  },
  "language_info": {
   "codemirror_mode": {
    "name": "ipython",
    "version": 3
   },
   "file_extension": ".py",
   "mimetype": "text/x-python",
   "name": "python",
   "nbconvert_exporter": "python",
   "pygments_lexer": "ipython3",
   "version": "3.9.7"
  }
 },
 "nbformat": 4,
 "nbformat_minor": 5
}
